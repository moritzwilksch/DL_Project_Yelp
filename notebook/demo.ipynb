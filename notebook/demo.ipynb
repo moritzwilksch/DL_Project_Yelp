{
 "cells": [
  {
   "cell_type": "markdown",
   "metadata": {
    "colab_type": "text",
    "id": "-s8GgogUkNnq"
   },
   "source": [
    "\n",
    "\n",
    "# Yelp Reviews Sentiment\n",
    "Could a model tell only by looking at the text of a review, if its positive, negative or neutral? This is the question we try to answer with this project. This notebook should give you a brief idea on how we tried to solve this task. How did we preprocessed the data, what model did we use and how did we tune the hyperparameter.\n"
   ]
  },
  {
   "cell_type": "markdown",
   "metadata": {
    "colab_type": "text",
    "id": "f3RVbA4HltUL"
   },
   "source": [
    "## Importing Modules"
   ]
  },
  {
   "cell_type": "code",
   "execution_count": 1,
   "metadata": {
    "colab": {
     "base_uri": "https://localhost:8080/",
     "height": 538
    },
    "colab_type": "code",
    "id": "JLoRKVi7j2dw",
    "outputId": "8f626cee-85a0-4585-8413-2e2b2bfb1a91"
   },
   "outputs": [
    {
     "name": "stderr",
     "output_type": "stream",
     "text": [
      "Using TensorFlow backend.\n"
     ]
    }
   ],
   "source": [
    "import keras\n",
    "import joblib\n",
    "import numpy as np \n",
    "import pandas as pd\n",
    "import fasttext.util\n",
    "import seaborn as sns\n",
    "import multiprocessing as mp\n",
    "import matplotlib.pyplot as plt\n",
    "from typing import List, Dict, Union\n",
    "from gensim.utils import simple_preprocess\n",
    "from keras.preprocessing.text import Tokenizer\n",
    "from gensim.parsing.porter import PorterStemmer\n",
    "from sklearn.model_selection import train_test_split\n",
    "from keras.preprocessing.sequence import pad_sequences\n",
    "from sklearn.metrics.pairwise import cosine_similarity\n",
    "from sklearn.preprocessing import OneHotEncoder\n",
    "from sklearn.metrics import classification_report, roc_curve, confusion_matrix, auc"
   ]
  },
  {
   "cell_type": "markdown",
   "metadata": {
    "colab_type": "text",
    "id": "78TR68IomVBJ"
   },
   "source": [
    "## Data Loading\n",
    "The data is stored in a huge >6GB JSON file. The first step is to optimize the data so it fits into the RAM of a working environment like for example Google Colab.\n",
    "We therefore drop all columns except for stars, text and date and optimize the datatypes\n",
    "\n",
    "**Note:** To run this code you should make sure to have enough RAM "
   ]
  },
  {
   "cell_type": "code",
   "execution_count": 2,
   "metadata": {
    "colab": {},
    "colab_type": "code",
    "id": "CUpKye1BmTSw"
   },
   "outputs": [],
   "source": [
    "path = '../data/'\n",
    "\n",
    "def prep(x: pd.DataFrame) -> pd.DataFrame:\n",
    "  x['text'] = x['text'].astype('string')\n",
    "  x['stars'] = x['stars'].astype('category')\n",
    "  return x[['stars', 'text', 'date']]\n",
    "\n",
    "json_filename = \"yelp_academic_dataset_review.json\"\n",
    "\n",
    "df: pd.DataFrame = pd.read_json(path + json_filename, lines=True, chunksize=8192)\n",
    "preped_chunks: List[pd.DataFrame] = []\n",
    "\n",
    "for chunk in df:\n",
    "    preped_chunks.append(prep(chunk))\n",
    "\n",
    "data = pd.concat(preped_chunks)"
   ]
  },
  {
   "cell_type": "markdown",
   "metadata": {
    "colab_type": "text",
    "id": "un6o2QnPnfJg"
   },
   "source": [
    "## Subsampling\n",
    "Now that we have the optimized.pickle file we can take a subsample of 400,000 reviews and split it  in train, validation and test data. The train set will have balanced classe, the class distribution in validation and test set will follow the original distribution. Further are we going to categorize 5 and 4 stars as `positive`, 3 as `neutral` and 2 and 1 as `negative`.\n"
   ]
  },
  {
   "cell_type": "code",
   "execution_count": 3,
   "metadata": {
    "colab": {},
    "colab_type": "code",
    "id": "8-WtEczOn6sL"
   },
   "outputs": [
    {
     "name": "stdout",
     "output_type": "stream",
     "text": [
      "Successfully split data! Train/Validation/Test-Shapes are:\n",
      "(300000, 2)\n",
      "(60000, 2)\n",
      "(40000, 2)\n"
     ]
    }
   ],
   "source": [
    "\n",
    "def stars_to_category(stars: int) -> int:\n",
    "    \"\"\"Converts stars of 1 to 5 to categories negative (-1), neutral (0), positive (1)\"\"\"\n",
    "    return -1 if stars <= 2 else 0 if stars == 3 else 1\n",
    "\n",
    "total_num_samples: int = 400_000\n",
    "train_ratio: float = 0.75\n",
    "validation_ratio: float = 0.15\n",
    "test_ratio: float = 0.1\n",
    "\n",
    "if train_ratio + validation_ratio + test_ratio != 1:\n",
    "    raise ValueError(\"Train-, Validation- and Testratio have to sum to 1!\")\n",
    "\n",
    "try: data\n",
    "except NameError: data = None\n",
    "\n",
    "if data is None:\n",
    "  path_to_pickle = path + 'reviews_optimized.pickle'\n",
    "  df = pd.read_pickle(path_to_pickle)\n",
    "else:\n",
    "  df = data\n",
    "\n",
    "x_train, x_test, y_train, y_test = train_test_split(\n",
    "    df.drop('stars', axis=1),\n",
    "    df['stars'],\n",
    "    test_size=1 - train_ratio\n",
    ")\n",
    "\n",
    "# Map stars to categories: positive, neutral, negative\n",
    "y_train = y_train.apply(stars_to_category)\n",
    "y_test = y_test.apply(stars_to_category)\n",
    "\n",
    "# Split the (too) large test set into validation and test\n",
    "x_val, x_test, y_val, y_test = train_test_split(\n",
    "    x_test,\n",
    "    y_test,\n",
    "    test_size=test_ratio / (test_ratio + validation_ratio)\n",
    ")\n",
    "\n",
    "# Group by stars. Subsample an equal number of samples from each group\n",
    "groups = x_train.groupby(y_train)\n",
    "samples = []\n",
    "\n",
    "for _, group in groups:\n",
    "    samples.append(group.sample(int(total_num_samples * train_ratio // 3)))\n",
    "\n",
    "x_train = pd.concat(samples)\n",
    "y_train = y_train[x_train.index]\n",
    "\n",
    "# Randomly sumbsample validation data\n",
    "x_val = x_val.sample(int(total_num_samples * validation_ratio))\n",
    "y_val = y_val[x_val.index]\n",
    "\n",
    "# Randomly sumbsample test data\n",
    "x_test = x_test.sample(int(total_num_samples * test_ratio))\n",
    "y_test = y_test[x_test.index]\n",
    "\n",
    "print(\"Successfully split data! Train/Validation/Test-Shapes are:\")\n",
    "for split in [x_train, x_val, x_test]:\n",
    "    print(split.shape)"
   ]
  },
  {
   "cell_type": "code",
   "execution_count": 4,
   "metadata": {
    "colab": {
     "base_uri": "https://localhost:8080/",
     "height": 307
    },
    "colab_type": "code",
    "id": "IimcpYYOnq5S",
    "outputId": "584a81ce-fdd4-4732-b2e8-b1ea28721631"
   },
   "outputs": [
    {
     "data": {
      "text/plain": [
       "<matplotlib.axes._subplots.AxesSubplot at 0x7f792f264e10>"
      ]
     },
     "execution_count": 4,
     "metadata": {},
     "output_type": "execute_result"
    },
    {
     "data": {
      "image/png": "[encoded data removed]",
      "text/plain": [
       "<Figure size 432x288 with 1 Axes>"
      ]
     },
     "metadata": {
      "needs_background": "light"
     },
     "output_type": "display_data"
    }
   ],
   "source": [
    "sns.countplot(x = y_train)"
   ]
  },
  {
   "cell_type": "code",
   "execution_count": 5,
   "metadata": {},
   "outputs": [
    {
     "data": {
      "text/plain": [
       "<matplotlib.axes._subplots.AxesSubplot at 0x7f7953d65ed0>"
      ]
     },
     "execution_count": 5,
     "metadata": {},
     "output_type": "execute_result"
    },
    {
     "data": {
      "image/png": "[encoded data removed]",
      "text/plain": [
       "<Figure size 432x288 with 1 Axes>"
      ]
     },
     "metadata": {
      "needs_background": "light"
     },
     "output_type": "display_data"
    }
   ],
   "source": [
    "sns.countplot(x = y_test)"
   ]
  },
  {
   "cell_type": "markdown",
   "metadata": {
    "colab_type": "text",
    "id": "c-LD5sOBU94N"
   },
   "source": [
    "## Create Embeddings\n",
    "To understand the text, it is necessary to classify and represent the text as a vector. We use the open source library fasttext from Facebook where every word is represented as a 300 dimensional vector.\n",
    "The whole fasttext file with the pre-trained vectors is about 7GB big. So we build a matrix with only the vectors that represent the words in our subsample.\n",
    "First we tokenize alle words in our training data and then get the vectors affiliated to this word.\n"
   ]
  },
  {
   "cell_type": "code",
   "execution_count": 6,
   "metadata": {
    "colab": {},
    "colab_type": "code",
    "id": "k3NadA2ZVYfw"
   },
   "outputs": [
    {
     "name": "stderr",
     "output_type": "stream",
     "text": [
      "Warning : `load_model` does not return WordVectorModel or SupervisedModel any more, but a `FastText` object which is very similar.\n"
     ]
    },
    {
     "name": "stdout",
     "output_type": "stream",
     "text": [
      "Successfuly created embedding matrix\n",
      "(93813, 300)\n"
     ]
    }
   ],
   "source": [
    "ft = fasttext.load_model(path + 'cc.en.300.bin')\n",
    "ps = PorterStemmer()\n",
    "\n",
    "tokens_xtrain = [simple_preprocess(line, deacc=True) for line in x_train['text']]\n",
    "\n",
    "def stem(list_of_words):\n",
    "  return [ps.stem(word.encode(\"ascii\", errors=\"ignore\").decode().strip()) for word in list_of_words]\n",
    "\n",
    "with mp.Pool(mp.cpu_count()) as p:\n",
    "  result = p.map(stem, tokens_xtrain)\n",
    "\n",
    "tok = Tokenizer()\n",
    "tok.fit_on_texts(result)\n",
    "tokens_xtrain = tok.texts_to_sequences(result)\n",
    "\n",
    "embedding_matrix = np.zeros((len(tok.word_index) + 1, 300))\n",
    "\n",
    "for word, index in tok.word_index.items():\n",
    "  embedding_matrix[index] = ft.get_word_vector(word)\n",
    "\n",
    "print('Successfuly created embedding matrix')\n",
    "print(embedding_matrix.shape)"
   ]
  },
  {
   "cell_type": "markdown",
   "metadata": {
    "colab_type": "text",
    "id": "OodYPmYHZDKJ"
   },
   "source": [
    "## Modelling"
   ]
  },
  {
   "cell_type": "code",
   "execution_count": 7,
   "metadata": {
    "colab": {},
    "colab_type": "code",
    "id": "sAZmwIzdDJ8O"
   },
   "outputs": [],
   "source": [
    "x_train = tok.texts_to_sequences(x_train['text'])\n",
    "x_val = tok.texts_to_sequences(x_val['text'])\n",
    "x_test = tok.texts_to_sequences(x_test['text'])"
   ]
  },
  {
   "cell_type": "code",
   "execution_count": 8,
   "metadata": {
    "colab": {
     "base_uri": "https://localhost:8080/",
     "height": 282
    },
    "colab_type": "code",
    "id": "O2G2s6brCe-D",
    "outputId": "299b9e05-7f43-4140-a013-f80f6a32cfe5"
   },
   "outputs": [
    {
     "data": {
      "text/plain": [
       "[Text(0, 0.5, 'share'),\n",
       " Text(0.5, 0, 'Number of words'),\n",
       " Text(0.5, 1.0, 'Number of words per review')]"
      ]
     },
     "execution_count": 8,
     "metadata": {},
     "output_type": "execute_result"
    },
    {
     "data": {
      "image/png": "[encoded data removed]",
      "text/plain": [
       "<Figure size 432x288 with 1 Axes>"
      ]
     },
     "metadata": {
      "needs_background": "light"
     },
     "output_type": "display_data"
    }
   ],
   "source": [
    "sns.distplot([len(x) for x in x_train]).set(\n",
    "    title = \"Number of words per review\", xlabel = 'Number of words', ylabel = 'share')\n"
   ]
  },
  {
   "cell_type": "markdown",
   "metadata": {
    "colab_type": "text",
    "id": "3VUHw20aDrfW"
   },
   "source": [
    "You can clearly tell that most reviews have way less words than 400. To minimize the number of zero representations we decide to take a 90th percentile crop if the sequences. The label will be One-Hot encoded so we get a 3 dimensional vector where the given category is represented as a 1 and the others as 0."
   ]
  },
  {
   "cell_type": "code",
   "execution_count": 9,
   "metadata": {
    "colab": {},
    "colab_type": "code",
    "id": "K0_98QXoDKHq"
   },
   "outputs": [],
   "source": [
    "MAX_INPUT_LENGTH = int(np.round(np.percentile([len(x) for x in x_train], 90)))  # 90th percentile crop\n",
    "\n",
    "x_train = pad_sequences(x_train, MAX_INPUT_LENGTH)\n",
    "x_val = pad_sequences(x_val, MAX_INPUT_LENGTH)\n",
    "x_test = pad_sequences(x_test, MAX_INPUT_LENGTH)\n",
    "\n",
    "ohe = OneHotEncoder()\n",
    "y_train = ohe.fit_transform(y_train.values.reshape(-1, 1))\n",
    "y_val = ohe.fit_transform(y_val.values.reshape(-1, 1))"
   ]
  },
  {
   "cell_type": "code",
   "execution_count": 10,
   "metadata": {
    "colab": {
     "base_uri": "https://localhost:8080/",
     "height": 442
    },
    "colab_type": "code",
    "id": "8J9XOwCMcFS8",
    "outputId": "0f210028-b71d-4d40-f38a-c68840b66f57"
   },
   "outputs": [
    {
     "name": "stdout",
     "output_type": "stream",
     "text": [
      "Model: \"sequential_1\"\n",
      "_________________________________________________________________\n",
      "Layer (type)                 Output Shape              Param #   \n",
      "=================================================================\n",
      "embedding_1 (Embedding)      (None, 190, 300)          28143900  \n",
      "_________________________________________________________________\n",
      "conv1d_1 (Conv1D)            (None, 188, 64)           57664     \n",
      "_________________________________________________________________\n",
      "max_pooling1d_1 (MaxPooling1 (None, 94, 64)            0         \n",
      "_________________________________________________________________\n",
      "conv1d_2 (Conv1D)            (None, 91, 128)           32896     \n",
      "_________________________________________________________________\n",
      "max_pooling1d_2 (MaxPooling1 (None, 45, 128)           0         \n",
      "_________________________________________________________________\n",
      "flatten_1 (Flatten)          (None, 5760)              0         \n",
      "_________________________________________________________________\n",
      "dropout_1 (Dropout)          (None, 5760)              0         \n",
      "_________________________________________________________________\n",
      "dense_1 (Dense)              (None, 3)                 17283     \n",
      "=================================================================\n",
      "Total params: 28,251,743\n",
      "Trainable params: 107,843\n",
      "Non-trainable params: 28,143,900\n",
      "_________________________________________________________________\n",
      "None\n"
     ]
    }
   ],
   "source": [
    "BATCH_SIZE = 256\n",
    "N_FILTERS = 100\n",
    "FILTER_SIZES = [3,4,5]\n",
    "DROPOUT = 0.5 \n",
    "N_EPOCHS = 1\n",
    "\n",
    "model = keras.Sequential([\n",
    "        keras.layers.Embedding(input_dim=len(tok.word_index) + 1, weights=[embedding_matrix], output_dim=300,\n",
    "                               trainable=False, input_length=MAX_INPUT_LENGTH),\n",
    "        keras.layers.Conv1D(filters=64, kernel_size=3, activation='relu'),\n",
    "        keras.layers.MaxPool1D(),\n",
    "        keras.layers.Conv1D(filters=128, kernel_size=4, activation='relu'),\n",
    "        keras.layers.MaxPool1D(),\n",
    "        keras.layers.Flatten(),\n",
    "        keras.layers.Dropout(0.5),\n",
    "        keras.layers.Dense(3, activation='softmax')\n",
    "    ])\n",
    "print(model.summary())\n",
    "\n"
   ]
  },
  {
   "cell_type": "code",
   "execution_count": 11,
   "metadata": {
    "colab": {
     "base_uri": "https://localhost:8080/",
     "height": 445
    },
    "colab_type": "code",
    "id": "oKiaNFqpcl9K",
    "outputId": "93e38cc8-819e-46ed-de02-e2165f162205"
   },
   "outputs": [
    {
     "name": "stdout",
     "output_type": "stream",
     "text": [
      "Train on 300000 samples, validate on 60000 samples\n",
      "Epoch 1/1\n",
      "300000/300000 [==============================] - 131s 435us/step - loss: 0.7098 - accuracy: 0.6886 - val_loss: 0.6342 - val_accuracy: 0.7295\n"
     ]
    },
    {
     "data": {
      "text/plain": [
       "<keras.callbacks.callbacks.History at 0x7f795652e250>"
      ]
     },
     "execution_count": 11,
     "metadata": {},
     "output_type": "execute_result"
    }
   ],
   "source": [
    "model.compile('adam', keras.losses.CategoricalCrossentropy(), metrics=['accuracy'])\n",
    "model.fit(x_train, y_train, batch_size=BATCH_SIZE, epochs=N_EPOCHS, validation_data=(x_val, y_val))"
   ]
  },
  {
   "cell_type": "code",
   "execution_count": 12,
   "metadata": {
    "colab": {
     "base_uri": "https://localhost:8080/",
     "height": 296
    },
    "colab_type": "code",
    "id": "8L-dbiNCeucw",
    "outputId": "2884df03-5e61-471b-f863-07ef4130ccc7"
   },
   "outputs": [
    {
     "data": {
      "text/plain": [
       "Text(0, 0.5, 'Accuracy')"
      ]
     },
     "execution_count": 12,
     "metadata": {},
     "output_type": "execute_result"
    },
    {
     "data": {
      "image/png": "[encoded data removed]",
      "text/plain": [
       "<Figure size 432x288 with 1 Axes>"
      ]
     },
     "metadata": {
      "needs_background": "light"
     },
     "output_type": "display_data"
    }
   ],
   "source": [
    "pd.DataFrame({\n",
    "    'train_acc': model.history.history['accuracy'],\n",
    "    'val_acc': model.history.history['val_accuracy']\n",
    "    }).plot()\n",
    "plt.xlabel(\"Epoch\")\n",
    "plt.ylabel(\"Accuracy\")"
   ]
  },
  {
   "cell_type": "code",
   "execution_count": 13,
   "metadata": {},
   "outputs": [
    {
     "name": "stdout",
     "output_type": "stream",
     "text": [
      "=== Performance on test set for negative/neural/positive classes ===\n",
      "\n",
      "              precision    recall  f1-score   support\n",
      "\n",
      "           0       0.76      0.79      0.77      9504\n",
      "           1       0.27      0.69      0.39      4176\n",
      "           2       0.96      0.71      0.82     26320\n",
      "\n",
      "    accuracy                           0.73     40000\n",
      "   macro avg       0.67      0.73      0.66     40000\n",
      "weighted avg       0.84      0.73      0.76     40000\n",
      "\n"
     ]
    }
   ],
   "source": [
    "print(\"=== Performance on test set for negative/neural/positive classes ===\")\n",
    "preds = model.predict_classes(x_test)\n",
    "y_test_classification = ohe.fit_transform(y_test.values.reshape(-1, 1))\n",
    "print(\"\\n\" + classification_report(np.argmax(y_test_classification.toarray(), axis=1), preds))"
   ]
  },
  {
   "cell_type": "code",
   "execution_count": 14,
   "metadata": {},
   "outputs": [
    {
     "data": {
      "text/plain": [
       "array([[ 7474,  1782,   248],\n",
       "       [  808,  2884,   484],\n",
       "       [ 1512,  6036, 18772]])"
      ]
     },
     "execution_count": 14,
     "metadata": {},
     "output_type": "execute_result"
    }
   ],
   "source": [
    "y_test = y_test.apply(lambda x: x+1)\n",
    "confusion_matrix(y_test, preds)"
   ]
  },
  {
   "cell_type": "code",
   "execution_count": 15,
   "metadata": {},
   "outputs": [],
   "source": [
    "# incentive from https://benalexkeen.com/scoring-classifier-models-using-scikit-learn/\n",
    "\n",
    "pred_prob = model.predict_proba(x_test)\n",
    "\n",
    "n_classes = 3\n",
    "fpr = dict()\n",
    "tpr = dict()\n",
    "roc_auc = dict()\n",
    "all_y_test_i = np.array([])\n",
    "all_y_predict_proba = np.array([])\n",
    "for i in range(n_classes):\n",
    "    y_test_i = y_test.map(lambda x: 1 if x == i else 0)\n",
    "    all_y_test_i = np.concatenate([all_y_test_i, y_test_i])\n",
    "    all_y_predict_proba = np.concatenate([all_y_predict_proba, pred_prob[:, i]])\n",
    "    fpr[i], tpr[i], _ = roc_curve(y_test_i, pred_prob[:, i])\n",
    "    roc_auc[i] = auc(fpr[i], tpr[i])\n",
    "\n",
    "fpr[\"average\"], tpr[\"average\"], _ = roc_curve(all_y_test_i, all_y_predict_proba)\n",
    "roc_auc[\"average\"] = auc(fpr[\"average\"], tpr[\"average\"])"
   ]
  },
  {
   "cell_type": "code",
   "execution_count": 16,
   "metadata": {},
   "outputs": [
    {
     "data": {
      "image/png": "[encoded data removed]",
      "text/plain": [
       "<Figure size 432x288 with 1 Axes>"
      ]
     },
     "metadata": {
      "needs_background": "light"
     },
     "output_type": "display_data"
    }
   ],
   "source": [
    "plt.figure()\n",
    "plt.plot(fpr[\"average\"], tpr[\"average\"],\n",
    "         label='Average ROC curve (area = {0:0.2f})'\n",
    "               ''.format(roc_auc[\"average\"]),\n",
    "         color='deeppink', linestyle=':', linewidth=4)\n",
    "\n",
    "for i in range(n_classes):\n",
    "    plt.plot(fpr[i], tpr[i], lw=2,\n",
    "             label='ROC curve of class {0} (area = {1:0.2f})'\n",
    "             ''.format(i, roc_auc[i]))\n",
    "\n",
    "plt.plot([0, 1], [0, 1], 'k--', lw=2)\n",
    "plt.xlim([0.0, 1.0])\n",
    "plt.ylim([0.0, 1.05])\n",
    "plt.xlabel('False Positive Rate')\n",
    "plt.ylabel('True Positive Rate')\n",
    "plt.title('ROC')\n",
    "plt.legend(loc=\"lower right\")\n",
    "plt.show()"
   ]
  }
 ],
 "metadata": {
  "colab": {
   "collapsed_sections": [],
   "name": "demo.ipynb",
   "provenance": []
  },
  "kernelspec": {
   "display_name": "Python 3",
   "language": "python",
   "name": "python3"
  },
  "language_info": {
   "codemirror_mode": {
    "name": "ipython",
    "version": 3
   },
   "file_extension": ".py",
   "mimetype": "text/x-python",
   "name": "python",
   "nbconvert_exporter": "python",
   "pygments_lexer": "ipython3",
   "version": "3.7.8"
  }
 },
 "nbformat": 4,
 "nbformat_minor": 1
}
