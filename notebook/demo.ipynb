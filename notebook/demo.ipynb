{
  "cells": [
    {
      "cell_type": "markdown",
      "metadata": {
        "id": "-s8GgogUkNnq",
        "colab_type": "text"
      },
      "source": [
        "\n",
        "\n",
        "# Yelp Reviews Sentiment\n",
        "Could a model tell only by looking at the text of a review, if its positive, negative or neutral? This is the question we try to answer with this project. This notebook should give you a brief idea on how we tried to solve this task. How did we preprocessed the data, what model did we use and how did we tune the hyperparameter.\n"
      ]
    },
    {
      "cell_type": "markdown",
      "metadata": {
        "id": "f3RVbA4HltUL",
        "colab_type": "text"
      },
      "source": [
        "## Importing Modules"
      ]
    },
    {
      "cell_type": "code",
      "metadata": {
        "id": "JLoRKVi7j2dw",
        "colab_type": "code",
        "colab": {
          "base_uri": "https://localhost:8080/",
          "height": 538
        },
        "outputId": "8f626cee-85a0-4585-8413-2e2b2bfb1a91"
      },
      "source": [
        "!pip install fasttext\n",
        "from google.colab import drive\n",
        "import keras\n",
        "import joblib\n",
        "import numpy as np \n",
        "import pandas as pd\n",
        "import fasttext.util\n",
        "import seaborn as sns\n",
        "import multiprocessing as mp\n",
        "import matplotlib.pyplot as plt\n",
        "from typing import List, Dict, Union\n",
        "from gensim.utils import simple_preprocess\n",
        "from keras.preprocessing.text import Tokenizer\n",
        "from gensim.parsing.porter import PorterStemmer\n",
        "from sklearn.model_selection import train_test_split\n",
        "from keras.preprocessing.sequence import pad_sequences\n",
        "from sklearn.metrics.pairwise import cosine_similarity\n",
        "from sklearn.preprocessing import OneHotEncoder\n",
        "from sklearn.metrics import classification_report"
      ],
      "execution_count": 1,
      "outputs": [
        {
          "output_type": "stream",
          "text": [
            "Collecting fasttext\n",
            "\u001b[?25l  Downloading https://files.pythonhosted.org/packages/f8/85/e2b368ab6d3528827b147fdb814f8189acc981a4bc2f99ab894650e05c40/fasttext-0.9.2.tar.gz (68kB)\n",
            "\r\u001b[K     |████▊                           | 10kB 14.1MB/s eta 0:00:01\r\u001b[K     |█████████▌                      | 20kB 3.0MB/s eta 0:00:01\r\u001b[K     |██████████████▎                 | 30kB 3.4MB/s eta 0:00:01\r\u001b[K     |███████████████████             | 40kB 3.6MB/s eta 0:00:01\r\u001b[K     |███████████████████████▉        | 51kB 3.5MB/s eta 0:00:01\r\u001b[K     |████████████████████████████▋   | 61kB 3.8MB/s eta 0:00:01\r\u001b[K     |████████████████████████████████| 71kB 3.1MB/s \n",
            "\u001b[?25hRequirement already satisfied: pybind11>=2.2 in /usr/local/lib/python3.6/dist-packages (from fasttext) (2.5.0)\n",
            "Requirement already satisfied: setuptools>=0.7.0 in /usr/local/lib/python3.6/dist-packages (from fasttext) (49.1.0)\n",
            "Requirement already satisfied: numpy in /usr/local/lib/python3.6/dist-packages (from fasttext) (1.18.5)\n",
            "Building wheels for collected packages: fasttext\n",
            "  Building wheel for fasttext (setup.py) ... \u001b[?25l\u001b[?25hcanceled\n",
            "\u001b[31mERROR: Operation cancelled by user\u001b[0m\n"
          ],
          "name": "stdout"
        },
        {
          "output_type": "stream",
          "text": [
            "Using TensorFlow backend.\n"
          ],
          "name": "stderr"
        },
        {
          "output_type": "error",
          "ename": "ModuleNotFoundError",
          "evalue": "ignored",
          "traceback": [
            "\u001b[0;31m---------------------------------------------------------------------------\u001b[0m",
            "\u001b[0;31mModuleNotFoundError\u001b[0m                       Traceback (most recent call last)",
            "\u001b[0;32m<ipython-input-1-af6bed189097>\u001b[0m in \u001b[0;36m<module>\u001b[0;34m()\u001b[0m\n\u001b[1;32m      5\u001b[0m \u001b[0;32mimport\u001b[0m \u001b[0mnumpy\u001b[0m \u001b[0;32mas\u001b[0m \u001b[0mnp\u001b[0m\u001b[0;34m\u001b[0m\u001b[0;34m\u001b[0m\u001b[0m\n\u001b[1;32m      6\u001b[0m \u001b[0;32mimport\u001b[0m \u001b[0mpandas\u001b[0m \u001b[0;32mas\u001b[0m \u001b[0mpd\u001b[0m\u001b[0;34m\u001b[0m\u001b[0;34m\u001b[0m\u001b[0m\n\u001b[0;32m----> 7\u001b[0;31m \u001b[0;32mimport\u001b[0m \u001b[0mfasttext\u001b[0m\u001b[0;34m.\u001b[0m\u001b[0mutil\u001b[0m\u001b[0;34m\u001b[0m\u001b[0;34m\u001b[0m\u001b[0m\n\u001b[0m\u001b[1;32m      8\u001b[0m \u001b[0;32mimport\u001b[0m \u001b[0mseaborn\u001b[0m \u001b[0;32mas\u001b[0m \u001b[0msns\u001b[0m\u001b[0;34m\u001b[0m\u001b[0;34m\u001b[0m\u001b[0m\n\u001b[1;32m      9\u001b[0m \u001b[0;32mimport\u001b[0m \u001b[0mmultiprocessing\u001b[0m \u001b[0;32mas\u001b[0m \u001b[0mmp\u001b[0m\u001b[0;34m\u001b[0m\u001b[0;34m\u001b[0m\u001b[0m\n",
            "\u001b[0;31mModuleNotFoundError\u001b[0m: No module named 'fasttext'",
            "",
            "\u001b[0;31m---------------------------------------------------------------------------\u001b[0;32m\nNOTE: If your import is failing due to a missing package, you can\nmanually install dependencies using either !pip or !apt.\n\nTo view examples of installing some common dependencies, click the\n\"Open Examples\" button below.\n\u001b[0;31m---------------------------------------------------------------------------\u001b[0m\n"
          ]
        }
      ]
    },
    {
      "cell_type": "markdown",
      "metadata": {
        "id": "78TR68IomVBJ",
        "colab_type": "text"
      },
      "source": [
        "## Data Loading\n",
        "The data is stored in a huge >6GB JSON file. The first step is to optimize the data so it fits into the RAM of a working environment like for example Google Colab.\n",
        "We therefore drop all columns except for stars, text and date and optimize the datatypes\n",
        "\n",
        "**Note:** To run this code you should make sure to have enough RAM "
      ]
    },
    {
      "cell_type": "code",
      "metadata": {
        "id": "CUpKye1BmTSw",
        "colab_type": "code",
        "colab": {}
      },
      "source": [
        "path = 'data/'\n",
        "\n",
        "def prep(x: pd.DataFrame) -> pd.DataFrame:\n",
        "  x['text'] = x['text'].astype('string')\n",
        "  x['stars'] = x['stars'].astype('category')\n",
        "  return x[['stars', 'text', 'date']]\n",
        "\n",
        "json_filename = \"yelp_academic_dataset_review.json\"\n",
        "\n",
        "df: pd.DataFrame = pd.read_json(path + json_filename, lines=True, chunksize=8192)\n",
        "preped_chunks: List[pd.DataFrame] = []\n",
        "\n",
        "for chunk in df:\n",
        "    preped_chunks.append(prep(chunk))\n",
        "\n",
        "data = pd.concat(preped_chunks)"
      ],
      "execution_count": null,
      "outputs": []
    },
    {
      "cell_type": "markdown",
      "metadata": {
        "id": "un6o2QnPnfJg",
        "colab_type": "text"
      },
      "source": [
        "## Subsampling\n",
        "Now that we have the optimized.pickle file we can take a subsample of 400,000 reviews and split it  in train, validation and test data. The train set will have balanced classe, the class distribution in validation and test set will follow the original distribution. Further are we going to categorize 5 and 4 stars as `positive`, 3 as `neutral` and 2 and 1 as `negative`.\n"
      ]
    },
    {
      "cell_type": "code",
      "metadata": {
        "id": "8-WtEczOn6sL",
        "colab_type": "code",
        "colab": {}
      },
      "source": [
        "\n",
        "def stars_to_category(stars: int) -> int:\n",
        "    \"\"\"Converts stars of 1 to 5 to categories negative (-1), neutral (0), positive (1)\"\"\"\n",
        "    return -1 if stars <= 2 else 0 if stars == 3 else 1\n",
        "\n",
        "total_num_samples: int = 400_000\n",
        "train_ratio: float = 0.75\n",
        "validation_ratio: float = 0.15\n",
        "test_ratio: float = 0.1\n",
        "\n",
        "if train_ratio + validation_ratio + test_ratio != 1:\n",
        "    raise ValueError(\"Train-, Validation- and Testratio have to sum to 1!\")\n",
        "\n",
        "try: data\n",
        "except NameError: data = None\n",
        "\n",
        "if data is None:\n",
        "  path_to_pickle = path + 'reviews_optimized.pickle'\n",
        "  df = pd.read_pickle(path_to_pickle)\n",
        "else:\n",
        "  df = data\n",
        "\n",
        "x_train, x_test, y_train, y_test = train_test_split(\n",
        "    df.drop('stars', axis=1),\n",
        "    df['stars'],\n",
        "    test_size=1 - train_ratio\n",
        ")\n",
        "\n",
        "# Map stars to categories: positive, neutral, negative\n",
        "y_train = y_train.apply(stars_to_category)\n",
        "y_test = y_test.apply(stars_to_category)\n",
        "\n",
        "# Split the (too) large test set into validation and test\n",
        "x_val, x_test, y_val, y_test = train_test_split(\n",
        "    x_test,\n",
        "    y_test,\n",
        "    test_size=test_ratio / (test_ratio + validation_ratio)\n",
        ")\n",
        "\n",
        "# Group by stars. Subsample an equal number of samples from each group\n",
        "groups = x_train.groupby(y_train)\n",
        "samples = []\n",
        "\n",
        "for _, group in groups:\n",
        "    samples.append(group.sample(int(total_num_samples * train_ratio // 3)))\n",
        "\n",
        "x_train = pd.concat(samples)\n",
        "y_train = y_train[x_train.index]\n",
        "\n",
        "# Randomly sumbsample validation data\n",
        "x_val = x_val.sample(int(total_num_samples * validation_ratio))\n",
        "y_val = y_val[x_val.index]\n",
        "\n",
        "# Randomly sumbsample test data\n",
        "x_test = x_test.sample(int(total_num_samples * test_ratio))\n",
        "y_test = y_test[x_test.index]\n",
        "\n",
        "print(\"Successfully split data! Train/Validation/Test-Shapes are:\")\n",
        "for split in [x_train, x_val, x_test]:\n",
        "    print(split.shape)"
      ],
      "execution_count": null,
      "outputs": []
    },
    {
      "cell_type": "code",
      "metadata": {
        "id": "IimcpYYOnq5S",
        "colab_type": "code",
        "colab": {
          "base_uri": "https://localhost:8080/",
          "height": 307
        },
        "outputId": "584a81ce-fdd4-4732-b2e8-b1ea28721631"
      },
      "source": [
        "sns.countplot(x = df['stars'])\n"
      ],
      "execution_count": null,
      "outputs": [
        {
          "output_type": "execute_result",
          "data": {
            "text/plain": [
              "<matplotlib.axes._subplots.AxesSubplot at 0x7f0be67a7e10>"
            ]
          },
          "metadata": {
            "tags": []
          },
          "execution_count": 11
        },
        {
          "output_type": "display_data",
          "data": {
            "image/png": "[encoded data removed]",
            "text/plain": [
              "<Figure size 432x288 with 1 Axes>"
            ]
          },
          "metadata": {
            "tags": [],
            "needs_background": "light"
          }
        }
      ]
    },
    {
      "cell_type": "markdown",
      "metadata": {
        "id": "c-LD5sOBU94N",
        "colab_type": "text"
      },
      "source": [
        "## Create Embeddings\n",
        "To understand the text, it is necessary to classify and represent the text as a vector. We use the open source library fasttext from Facebook where every word is represented as a 300 dimensional vector.\n",
        "The whole fasttext file with the pre-trained vectors is about 7GB big. So we build a matrix with only the vectors that represent the words in our subsample.\n",
        "First we tokenize alle words in our training data and then get the vectors affiliated to this word.\n"
      ]
    },
    {
      "cell_type": "code",
      "metadata": {
        "id": "k3NadA2ZVYfw",
        "colab_type": "code",
        "colab": {}
      },
      "source": [
        "ft = fasttext.load_model(path + 'cc.en.300.bin')\n",
        "ps = PorterStemmer()\n",
        "\n",
        "tokens_xtrain = [simple_preprocess(line, deacc=True) for line in x_train['text']]\n",
        "\n",
        "def stem(list_of_words):\n",
        "  return [ps.stem(word.encode(\"ascii\", errors=\"ignore\").decode().strip()) for word in list_of_words]\n",
        "\n",
        "with mp.Pool(mp.cpu_count()) as p:\n",
        "  result = p.map(stem, tokens_xtrain)\n",
        "\n",
        "tok = Tokenizer()\n",
        "tok.fit_on_texts(result)\n",
        "tokens_xtrain = tok.texts_to_sequences(result)\n",
        "\n",
        "embedding_matrix = np.zeros((len(tok.word_index) + 1, 300))\n",
        "\n",
        "for word, index in tok.word_index.items():\n",
        "  embedding_matrix[index] = ft.get_word_vector(word)"
      ],
      "execution_count": null,
      "outputs": []
    },
    {
      "cell_type": "code",
      "metadata": {
        "id": "CuzAUC3hBh5h",
        "colab_type": "code",
        "colab": {
          "base_uri": "https://localhost:8080/",
          "height": 1000
        },
        "outputId": "375dcf5c-7c8d-4a2f-dad4-e68473f7553d"
      },
      "source": [
        "print(embedding_matrix.shape)\n",
        "print(embedding_matrix[12])"
      ],
      "execution_count": null,
      "outputs": [
        {
          "output_type": "stream",
          "text": [
            "(72078, 300)\n",
            "[ 1.96468800e-01 -3.13726254e-02 -2.41170809e-01  4.46168408e-02\n",
            "  4.54317965e-02 -4.03451137e-02  6.98714107e-02  7.12221116e-02\n",
            " -1.38014197e-01 -1.26375509e-02  1.22694552e-01 -2.17745692e-01\n",
            " -3.15024219e-02 -1.51289761e-01 -1.09417945e-01  3.88599038e-01\n",
            " -1.07319430e-01  5.84536344e-02 -1.14523575e-01 -2.02204287e-01\n",
            "  7.52315670e-02  6.06266260e-02  4.30230238e-02 -1.19575836e-01\n",
            "  3.14096272e-01 -1.58089444e-01 -1.76111087e-01 -5.33110090e-03\n",
            " -8.54974091e-02  5.84432781e-01 -4.80109490e-02 -1.62025675e-01\n",
            " -1.20477319e-01 -5.20017594e-02  1.65450007e-01 -2.90732354e-01\n",
            " -8.84420052e-02 -6.55105710e-02 -5.62775657e-02 -5.85129820e-02\n",
            " -2.53408961e-02  9.65959877e-02 -9.76902843e-02  6.49419785e-01\n",
            " -2.33020321e-01 -1.13205076e-03  3.47818322e-02  6.07724972e-02\n",
            " -2.20823228e-01 -1.25138834e-01  8.31027776e-02  3.24304737e-02\n",
            " -1.24179207e-01  1.86581071e-02 -2.04450712e-01 -2.94653684e-01\n",
            " -2.68991709e-01  3.04282993e-01 -2.51636744e-01  1.49952084e-01\n",
            " -9.72808078e-02 -6.76200399e-03  5.40849082e-02 -1.34701267e-01\n",
            " -1.09398432e-01  1.46766335e-01 -1.10229962e-01 -5.15372232e-02\n",
            "  7.03726262e-02 -1.59437135e-01  1.52296484e-01 -1.19126430e-02\n",
            " -4.94102910e-02 -1.89066425e-01  1.40207499e-01 -1.72761142e-01\n",
            " -1.08420357e-01 -1.05616361e-01  2.81305641e-01  5.44092357e-01\n",
            " -8.98602530e-02 -2.14531332e-01 -4.02990244e-02  1.17282532e-01\n",
            "  1.25859067e-01 -3.65938470e-02  2.32953485e-02  2.57699281e-01\n",
            " -1.27277434e-01 -2.03775331e-01 -2.04703346e-01 -9.64677632e-02\n",
            "  1.04909670e+00 -1.13632470e-01 -9.04741436e-02 -1.32462159e-01\n",
            "  4.38974202e-01  2.20886230e-01  4.73842472e-02 -1.51325101e-02\n",
            "  1.64946333e-01  1.08643882e-01 -2.91936342e-02  2.45261252e-01\n",
            "  1.80103481e-01  8.01560804e-02  1.03057837e-02  9.42651927e-02\n",
            "  1.98017895e-01  4.40266021e-02  8.00577849e-02 -3.72334719e-01\n",
            "  6.56276867e-02  2.86658376e-01 -1.23386867e-01 -4.89907898e-02\n",
            " -1.44848496e-01  2.08416149e-01  8.80831555e-02  7.84123465e-02\n",
            "  1.09047391e-01  9.60700959e-02  1.06153667e-01 -1.23349708e-02\n",
            "  2.31790859e-02  4.69590485e-01  6.05924474e-03  3.47872600e-02\n",
            "  1.64092034e-02  2.72570074e-01 -3.32777388e-02  7.32906722e-03\n",
            "  9.75121558e-02  1.69113442e-01 -7.57342800e-02 -3.09522957e-01\n",
            "  1.42903134e-01 -3.15236747e-02 -1.02039300e-01  7.20160306e-02\n",
            " -1.08915247e-01 -4.79452237e-02 -7.40003511e-02  8.30905512e-02\n",
            "  3.10629547e-01 -5.57602718e-02 -6.51044369e-01 -1.25978246e-01\n",
            " -3.42448838e-02  2.10399687e-01 -6.69402182e-01 -3.76258753e-02\n",
            "  2.51627296e-01  1.50113657e-01 -2.36043893e-02  8.02781507e-02\n",
            "  3.84917140e-01 -7.32420981e-02  7.23806620e-02  1.66457117e-01\n",
            "  6.98863491e-02  1.56450048e-01  2.01460883e-01 -1.67777166e-02\n",
            "  1.23490162e-01 -1.11393839e-01  4.44745384e-02 -1.06831819e-01\n",
            "  1.16595738e-01 -8.47012699e-02  9.40767229e-02 -6.69239759e-02\n",
            " -1.20494321e-01  3.07656340e-02  1.68401629e-01 -1.44400448e-01\n",
            "  2.06423014e-01 -2.26041023e-02  1.98963463e-01  8.42042714e-02\n",
            "  2.36999050e-01  6.47889376e-02  5.42385206e-02  1.83260679e-01\n",
            "  9.39487591e-02  5.43413162e-01 -1.94955423e-01 -4.63506654e-02\n",
            "  7.21781626e-02  1.18669808e-01  8.42951983e-03  1.06769010e-01\n",
            " -6.54654717e-03 -3.69602591e-01 -4.48301211e-02 -3.79597217e-01\n",
            " -2.24015981e-01 -2.43863072e-02  1.55263990e-01  2.03857794e-01\n",
            " -1.21185549e-01  9.89356160e-01  6.29932210e-02 -9.21771154e-02\n",
            " -1.76504478e-01  1.67421132e-01 -9.74957496e-02 -1.55198798e-01\n",
            "  1.44230977e-01  3.27750832e-01 -5.66066392e-02 -4.34002727e-02\n",
            "  2.30701230e-02  1.09169729e-01 -8.00855160e-02  4.44770120e-02\n",
            "  6.90925345e-02  5.09693921e-02  1.77641600e-01 -1.63651645e-01\n",
            "  1.36042073e-01 -6.35799468e-02 -1.52689993e-01 -7.18345702e-01\n",
            " -1.32339299e-01 -7.47836232e-02 -9.86323133e-02 -1.39651820e-01\n",
            " -1.12761512e-01 -5.68570718e-02  1.25045761e-01  1.56178743e-01\n",
            " -4.31643099e-01 -2.16353923e-01  7.55275739e-03 -9.26533714e-02\n",
            " -1.08679039e-02  2.92980727e-02  3.04242790e-01 -2.07188174e-01\n",
            "  1.83502340e-03  1.29167333e-01 -1.49036795e-01 -1.09650470e-01\n",
            "  1.15913427e+00 -4.64496836e-02 -4.45940793e-02 -3.82666886e-02\n",
            " -6.37040436e-02 -2.36476853e-01  9.47715566e-02  1.79534853e-01\n",
            " -1.23166345e-01 -1.47077501e-01  9.91354808e-02 -5.58491871e-02\n",
            "  2.42742941e-01  7.83655792e-02 -1.68578461e-01  2.91753888e-01\n",
            "  2.37058979e-02 -3.31594497e-01  7.64595047e-02 -5.40392557e-06\n",
            "  3.53152931e-01 -1.17923655e-01 -2.68015772e-01 -5.59351519e-02\n",
            " -3.30658294e-02 -2.73131520e-01 -1.82700768e-01  1.00852177e-02\n",
            "  8.03221017e-02 -1.72414169e-01 -2.86711380e-02 -3.33084434e-01\n",
            "  1.74168363e-01 -1.68207318e-01 -3.56944725e-02 -3.19115013e-01\n",
            "  1.47626638e-01 -2.23920509e-01 -5.46621919e-01  4.23145518e-02\n",
            "  1.05045393e-01  6.62860498e-02  1.92561880e-01 -6.46180034e-01\n",
            "  7.59593025e-02 -5.98152950e-02  1.02457650e-01 -5.44790290e-02\n",
            " -4.06121016e-01  1.13562994e-01 -4.52933684e-02  8.98176047e-04\n",
            "  7.15301409e-02  6.91811800e-01 -2.62303710e-01  4.06694300e-02]\n"
          ],
          "name": "stdout"
        }
      ]
    },
    {
      "cell_type": "markdown",
      "metadata": {
        "id": "OodYPmYHZDKJ",
        "colab_type": "text"
      },
      "source": [
        "## Modelling"
      ]
    },
    {
      "cell_type": "code",
      "metadata": {
        "id": "sAZmwIzdDJ8O",
        "colab_type": "code",
        "colab": {}
      },
      "source": [
        "x_train = tok.texts_to_sequences(x_train['text'])\n",
        "x_val = tok.texts_to_sequences(x_val['text'])\n",
        "x_test = tok.texts_to_sequences(x_test['text'])"
      ],
      "execution_count": null,
      "outputs": []
    },
    {
      "cell_type": "code",
      "metadata": {
        "id": "O2G2s6brCe-D",
        "colab_type": "code",
        "colab": {
          "base_uri": "https://localhost:8080/",
          "height": 282
        },
        "outputId": "299b9e05-7f43-4140-a013-f80f6a32cfe5"
      },
      "source": [
        "sns.title(\"Number of words per review\")s\n",
        "sns.distplot([len(x) for x in x_train])"
      ],
      "execution_count": null,
      "outputs": [
        {
          "output_type": "execute_result",
          "data": {
            "text/plain": [
              "<matplotlib.axes._subplots.AxesSubplot at 0x7fafa1f84518>"
            ]
          },
          "metadata": {
            "tags": []
          },
          "execution_count": 47
        },
        {
          "output_type": "display_data",
          "data": {
            "image/png": "[encoded data removed]",
            "text/plain": [
              "<Figure size 432x288 with 1 Axes>"
            ]
          },
          "metadata": {
            "tags": [],
            "needs_background": "light"
          }
        }
      ]
    },
    {
      "cell_type": "markdown",
      "metadata": {
        "id": "3VUHw20aDrfW",
        "colab_type": "text"
      },
      "source": [
        "You can clearly tell that most reviews have way less words than 400. To minimize the number of zero representations we decide to take a 90th percentile crop if the sequences. The label will be One-Hot encoded so we get a 3 dimensional vector where the given category is represented as a 1 and the others as 0."
      ]
    },
    {
      "cell_type": "code",
      "metadata": {
        "id": "K0_98QXoDKHq",
        "colab_type": "code",
        "colab": {}
      },
      "source": [
        "MAX_INPUT_LENGTH = int(np.round(np.percentile([len(x) for x in x_train], 90)))  # 90th percentile crop\n",
        "\n",
        "x_train = pad_sequences(x_train, MAX_INPUT_LENGTH)\n",
        "x_val = pad_sequences(x_val, MAX_INPUT_LENGTH)\n",
        "x_test = pad_sequences(x_test, MAX_INPUT_LENGTH)\n",
        "\n",
        "ohe = OneHotEncoder()\n",
        "y_train = ohe.fit_transform(y_train.values.reshape(-1, 1))\n",
        "y_test = ohe.fit_transform(y_test.values.reshape(-1, 1))\n",
        "y_val = ohe.fit_transform(y_val.values.reshape(-1, 1))"
      ],
      "execution_count": null,
      "outputs": []
    },
    {
      "cell_type": "code",
      "metadata": {
        "id": "8J9XOwCMcFS8",
        "colab_type": "code",
        "colab": {
          "base_uri": "https://localhost:8080/",
          "height": 442
        },
        "outputId": "0f210028-b71d-4d40-f38a-c68840b66f57"
      },
      "source": [
        "BATCH_SIZE = 1024\n",
        "N_FILTERS = 100\n",
        "FILTER_SIZES = [3,4,5]\n",
        "DROPOUT = 0.5 \n",
        "N_EPOCHS = 10\n",
        "\n",
        "try: embedding_matrix\n",
        "except NameError: embedding_matrix = None\n",
        "\n",
        "if embedding_matrix is None:\n",
        "  path_to_pickle = path + 'embedding_matrix.pickle'\n",
        "  embedding_matrix = pd.read_pickle(path_to_pickle)\n",
        "\n",
        "model = keras.Sequential([\n",
        "        keras.layers.Embedding(input_dim=len(tokenizer.word_index) + 1, weights=[embedding_matrix], output_dim=300,\n",
        "                               trainable=False, input_length=max_input_length),\n",
        "        keras.layers.Conv1D(filters=64, kernel_size=3, activation='relu'),\n",
        "        keras.layers.MaxPool1D(),\n",
        "        keras.layers.Conv1D(filters=128, kernel_size=4, activation='relu'),\n",
        "        keras.layers.MaxPool1D(),\n",
        "        keras.layers.Flatten(),\n",
        "        keras.layers.Dropout(0.5),\n",
        "        keras.layers.Dense(3, activation='softmax')\n",
        "    ])\n",
        "print(model.summary())\n",
        "\n"
      ],
      "execution_count": null,
      "outputs": [
        {
          "output_type": "stream",
          "text": [
            "Model: \"sequential_4\"\n",
            "_________________________________________________________________\n",
            "Layer (type)                 Output Shape              Param #   \n",
            "=================================================================\n",
            "embedding_4 (Embedding)      (None, 183, 300)          21623400  \n",
            "_________________________________________________________________\n",
            "conv1d_4 (Conv1D)            (None, 181, 64)           57664     \n",
            "_________________________________________________________________\n",
            "max_pooling1d_4 (MaxPooling1 (None, 90, 64)            0         \n",
            "_________________________________________________________________\n",
            "conv1d_5 (Conv1D)            (None, 87, 128)           32896     \n",
            "_________________________________________________________________\n",
            "max_pooling1d_5 (MaxPooling1 (None, 43, 128)           0         \n",
            "_________________________________________________________________\n",
            "flatten_4 (Flatten)          (None, 5504)              0         \n",
            "_________________________________________________________________\n",
            "dropout_4 (Dropout)          (None, 5504)              0         \n",
            "_________________________________________________________________\n",
            "dense_4 (Dense)              (None, 3)                 16515     \n",
            "=================================================================\n",
            "Total params: 21,730,475\n",
            "Trainable params: 21,730,475\n",
            "Non-trainable params: 0\n",
            "_________________________________________________________________\n",
            "None\n"
          ],
          "name": "stdout"
        }
      ]
    },
    {
      "cell_type": "code",
      "metadata": {
        "id": "oKiaNFqpcl9K",
        "colab_type": "code",
        "colab": {
          "base_uri": "https://localhost:8080/",
          "height": 445
        },
        "outputId": "93e38cc8-819e-46ed-de02-e2165f162205"
      },
      "source": [
        "model.compile('adam', keras.losses.CategoricalCrossentropy(), metrics=['accuracy'])\n",
        "model.fit(x_train, y_train, batch_size=BATCH_SIZE, epochs=N_EPOCHS, validation_data=(x_val, y_val))"
      ],
      "execution_count": null,
      "outputs": [
        {
          "output_type": "stream",
          "text": [
            "/usr/local/lib/python3.6/dist-packages/tensorflow/python/framework/indexed_slices.py:434: UserWarning: Converting sparse IndexedSlices to a dense Tensor of unknown shape. This may consume a large amount of memory.\n",
            "  \"Converting sparse IndexedSlices to a dense Tensor of unknown shape. \"\n"
          ],
          "name": "stderr"
        },
        {
          "output_type": "stream",
          "text": [
            "Train on 300000 samples, validate on 60000 samples\n",
            "Epoch 1/10\n",
            "300000/300000 [==============================] - 22s 75us/step - loss: 0.6969 - accuracy: 0.6902 - val_loss: 0.5134 - val_accuracy: 0.7969\n",
            "Epoch 2/10\n",
            "300000/300000 [==============================] - 21s 69us/step - loss: 0.5718 - accuracy: 0.7594 - val_loss: 0.5595 - val_accuracy: 0.7721\n",
            "Epoch 3/10\n",
            "300000/300000 [==============================] - 20s 68us/step - loss: 0.5182 - accuracy: 0.7836 - val_loss: 0.5836 - val_accuracy: 0.7700\n",
            "Epoch 4/10\n",
            "300000/300000 [==============================] - 20s 68us/step - loss: 0.4644 - accuracy: 0.8080 - val_loss: 0.5459 - val_accuracy: 0.7904\n",
            "Epoch 5/10\n",
            "300000/300000 [==============================] - 21s 68us/step - loss: 0.4088 - accuracy: 0.8337 - val_loss: 0.6260 - val_accuracy: 0.7708\n",
            "Epoch 6/10\n",
            "300000/300000 [==============================] - 21s 68us/step - loss: 0.3507 - accuracy: 0.8594 - val_loss: 0.7531 - val_accuracy: 0.7454\n",
            "Epoch 7/10\n",
            "300000/300000 [==============================] - 20s 68us/step - loss: 0.2987 - accuracy: 0.8810 - val_loss: 0.8650 - val_accuracy: 0.7393\n",
            "Epoch 8/10\n",
            "300000/300000 [==============================] - 20s 68us/step - loss: 0.2512 - accuracy: 0.9017 - val_loss: 0.8131 - val_accuracy: 0.7654\n",
            "Epoch 9/10\n",
            "300000/300000 [==============================] - 20s 68us/step - loss: 0.2158 - accuracy: 0.9159 - val_loss: 1.0571 - val_accuracy: 0.7371\n",
            "Epoch 10/10\n",
            "300000/300000 [==============================] - 20s 68us/step - loss: 0.1872 - accuracy: 0.9280 - val_loss: 1.0869 - val_accuracy: 0.7468\n"
          ],
          "name": "stdout"
        },
        {
          "output_type": "execute_result",
          "data": {
            "text/plain": [
              "<keras.callbacks.callbacks.History at 0x7f0ed046fcf8>"
            ]
          },
          "metadata": {
            "tags": []
          },
          "execution_count": 21
        }
      ]
    },
    {
      "cell_type": "code",
      "metadata": {
        "id": "8L-dbiNCeucw",
        "colab_type": "code",
        "colab": {
          "base_uri": "https://localhost:8080/",
          "height": 296
        },
        "outputId": "2884df03-5e61-471b-f863-07ef4130ccc7"
      },
      "source": [
        "pd.DataFrame({\n",
        "    'train_acc': model.history.history['accuracy'],\n",
        "    'val_acc': model.history.history['val_accuracy']\n",
        "    }).plot()\n",
        "plt.xlabel(\"Epoch\")\n",
        "plt.ylabel(\"Accuracy\")"
      ],
      "execution_count": null,
      "outputs": [
        {
          "output_type": "execute_result",
          "data": {
            "text/plain": [
              "Text(0, 0.5, 'Accuracy')"
            ]
          },
          "metadata": {
            "tags": []
          },
          "execution_count": 22
        },
        {
          "output_type": "display_data",
          "data": {
            "image/png": "[encoded data removed]",
            "text/plain": [
              "<Figure size 432x288 with 1 Axes>"
            ]
          },
          "metadata": {
            "tags": [],
            "needs_background": "light"
          }
        }
      ]
    },
    {
      "cell_type": "code",
      "metadata": {
        "id": "bcSoPBsreysV",
        "colab_type": "code",
        "colab": {
          "base_uri": "https://localhost:8080/",
          "height": 204
        },
        "outputId": "34fa4a03-d2a3-41cc-cb8e-1e60b3c0534c"
      },
      "source": [
        "print(\"\\n\" + classification_report(np.argmax(y_val.toarray(), axis=1), model.predict_classes(x_val)))"
      ],
      "execution_count": null,
      "outputs": [
        {
          "output_type": "stream",
          "text": [
            "\n",
            "              precision    recall  f1-score   support\n",
            "\n",
            "           0       0.78      0.75      0.77     14333\n",
            "           1       0.28      0.64      0.39      6238\n",
            "           2       0.95      0.76      0.84     39429\n",
            "\n",
            "    accuracy                           0.75     60000\n",
            "   macro avg       0.67      0.72      0.67     60000\n",
            "weighted avg       0.84      0.75      0.78     60000\n",
            "\n"
          ],
          "name": "stdout"
        }
      ]
    }
  ],
  "metadata": {
    "colab": {
      "name": "demo.ipynb",
      "provenance": [],
      "collapsed_sections": []
    },
    "kernelspec": {
      "name": "python3",
      "display_name": "Python 3"
    }
  },
  "nbformat": 4,
  "nbformat_minor": 0
}